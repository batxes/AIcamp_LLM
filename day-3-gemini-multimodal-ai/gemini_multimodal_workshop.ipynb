{
 "cells": [
  {
   "cell_type": "markdown",
   "metadata": {},
   "source": [
    "# AISG7: Day3 - MultiModal AI with Gemini\n",
    "\n",
    "This guide will walk you through using Google AI Studio with Gemini. You'll learn how to set up and interact with this powerful AI model, understand its capabilities and learn best practices for using it effectively.\n",
    "\n",
    "## Goals\n",
    "\n",
    "By the end of this guide, you should:\n",
    "\n",
    "- Have working access to Gemini in Google AI Studio\n",
    "- Understand Gemini's capabilities\n",
    "- Be able to make basic API calls\n",
    "- Test out one multimodal aspect of Gemini\n",
    "\n",
    "** Please remember to replace your AI Studio API key in the .env file! **\n",
    "\n",
    "Notes: You might need a google cloud account; there is $300 free credits for each new user and a generous free tier.   \n",
    "For our API calls below, we are using the new Gemini 2.0-Flash experimental model which is not billed."
   ]
  },
  {
   "cell_type": "code",
   "execution_count": 6,
   "metadata": {},
   "outputs": [
    {
     "name": "stdout",
     "output_type": "stream",
     "text": [
      "Collecting google-generativeai (from -r requirements.txt (line 1))\n",
      "  Downloading google_generativeai-0.8.3-py3-none-any.whl.metadata (3.9 kB)\n",
      "Requirement already satisfied: python-dotenv in /home/user/AIcamp_LLM/lab_env/lib/python3.11/site-packages (from -r requirements.txt (line 2)) (1.0.1)\n",
      "Requirement already satisfied: httpx in /home/user/AIcamp_LLM/lab_env/lib/python3.11/site-packages (from -r requirements.txt (line 3)) (0.28.1)\n",
      "Collecting google-ai-generativelanguage==0.6.10 (from google-generativeai->-r requirements.txt (line 1))\n",
      "  Downloading google_ai_generativelanguage-0.6.10-py3-none-any.whl.metadata (5.6 kB)\n",
      "Collecting google-api-core (from google-generativeai->-r requirements.txt (line 1))\n",
      "  Downloading google_api_core-2.24.0-py3-none-any.whl.metadata (3.0 kB)\n",
      "Collecting google-api-python-client (from google-generativeai->-r requirements.txt (line 1))\n",
      "  Downloading google_api_python_client-2.156.0-py2.py3-none-any.whl.metadata (6.7 kB)\n",
      "Requirement already satisfied: google-auth>=2.15.0 in /home/user/AIcamp_LLM/lab_env/lib/python3.11/site-packages (from google-generativeai->-r requirements.txt (line 1)) (2.37.0)\n",
      "Collecting protobuf (from google-generativeai->-r requirements.txt (line 1))\n",
      "  Downloading protobuf-5.29.2-cp38-abi3-manylinux2014_x86_64.whl.metadata (592 bytes)\n",
      "Requirement already satisfied: pydantic in /home/user/AIcamp_LLM/lab_env/lib/python3.11/site-packages (from google-generativeai->-r requirements.txt (line 1)) (2.10.4)\n",
      "Collecting tqdm (from google-generativeai->-r requirements.txt (line 1))\n",
      "  Downloading tqdm-4.67.1-py3-none-any.whl.metadata (57 kB)\n",
      "\u001b[2K     \u001b[90m━━━━━━━━━━━━━━━━━━━━━━━━━━━━━━━━━━━━━━━━\u001b[0m \u001b[32m57.7/57.7 kB\u001b[0m \u001b[31m3.9 MB/s\u001b[0m eta \u001b[36m0:00:00\u001b[0m\n",
      "\u001b[?25hRequirement already satisfied: typing-extensions in /home/user/AIcamp_LLM/lab_env/lib/python3.11/site-packages (from google-generativeai->-r requirements.txt (line 1)) (4.12.2)\n",
      "Collecting proto-plus<2.0.0dev,>=1.22.3 (from google-ai-generativelanguage==0.6.10->google-generativeai->-r requirements.txt (line 1))\n",
      "  Downloading proto_plus-1.25.0-py3-none-any.whl.metadata (2.2 kB)\n",
      "Requirement already satisfied: anyio in /home/user/AIcamp_LLM/lab_env/lib/python3.11/site-packages (from httpx->-r requirements.txt (line 3)) (4.7.0)\n",
      "Requirement already satisfied: certifi in /home/user/AIcamp_LLM/lab_env/lib/python3.11/site-packages (from httpx->-r requirements.txt (line 3)) (2024.12.14)\n",
      "Requirement already satisfied: httpcore==1.* in /home/user/AIcamp_LLM/lab_env/lib/python3.11/site-packages (from httpx->-r requirements.txt (line 3)) (1.0.7)\n",
      "Requirement already satisfied: idna in /home/user/AIcamp_LLM/lab_env/lib/python3.11/site-packages (from httpx->-r requirements.txt (line 3)) (3.10)\n",
      "Requirement already satisfied: h11<0.15,>=0.13 in /home/user/AIcamp_LLM/lab_env/lib/python3.11/site-packages (from httpcore==1.*->httpx->-r requirements.txt (line 3)) (0.14.0)\n",
      "Collecting googleapis-common-protos<2.0.dev0,>=1.56.2 (from google-api-core->google-generativeai->-r requirements.txt (line 1))\n",
      "  Downloading googleapis_common_protos-1.66.0-py2.py3-none-any.whl.metadata (1.5 kB)\n",
      "Requirement already satisfied: requests<3.0.0.dev0,>=2.18.0 in /home/user/AIcamp_LLM/lab_env/lib/python3.11/site-packages (from google-api-core->google-generativeai->-r requirements.txt (line 1)) (2.32.3)\n",
      "Requirement already satisfied: cachetools<6.0,>=2.0.0 in /home/user/AIcamp_LLM/lab_env/lib/python3.11/site-packages (from google-auth>=2.15.0->google-generativeai->-r requirements.txt (line 1)) (5.5.0)\n",
      "Requirement already satisfied: pyasn1-modules>=0.2.1 in /home/user/AIcamp_LLM/lab_env/lib/python3.11/site-packages (from google-auth>=2.15.0->google-generativeai->-r requirements.txt (line 1)) (0.4.1)\n",
      "Requirement already satisfied: rsa<5,>=3.1.4 in /home/user/AIcamp_LLM/lab_env/lib/python3.11/site-packages (from google-auth>=2.15.0->google-generativeai->-r requirements.txt (line 1)) (4.9)\n",
      "Requirement already satisfied: sniffio>=1.1 in /home/user/AIcamp_LLM/lab_env/lib/python3.11/site-packages (from anyio->httpx->-r requirements.txt (line 3)) (1.3.1)\n",
      "Collecting httplib2<1.dev0,>=0.19.0 (from google-api-python-client->google-generativeai->-r requirements.txt (line 1))\n",
      "  Downloading httplib2-0.22.0-py3-none-any.whl.metadata (2.6 kB)\n",
      "Collecting google-auth-httplib2<1.0.0,>=0.2.0 (from google-api-python-client->google-generativeai->-r requirements.txt (line 1))\n",
      "  Downloading google_auth_httplib2-0.2.0-py2.py3-none-any.whl.metadata (2.2 kB)\n",
      "Collecting uritemplate<5,>=3.0.1 (from google-api-python-client->google-generativeai->-r requirements.txt (line 1))\n",
      "  Downloading uritemplate-4.1.1-py2.py3-none-any.whl.metadata (2.9 kB)\n",
      "Requirement already satisfied: annotated-types>=0.6.0 in /home/user/AIcamp_LLM/lab_env/lib/python3.11/site-packages (from pydantic->google-generativeai->-r requirements.txt (line 1)) (0.7.0)\n",
      "Requirement already satisfied: pydantic-core==2.27.2 in /home/user/AIcamp_LLM/lab_env/lib/python3.11/site-packages (from pydantic->google-generativeai->-r requirements.txt (line 1)) (2.27.2)\n",
      "Collecting grpcio<2.0dev,>=1.33.2 (from google-api-core[grpc]!=2.0.*,!=2.1.*,!=2.10.*,!=2.2.*,!=2.3.*,!=2.4.*,!=2.5.*,!=2.6.*,!=2.7.*,!=2.8.*,!=2.9.*,<3.0.0dev,>=1.34.1->google-ai-generativelanguage==0.6.10->google-generativeai->-r requirements.txt (line 1))\n",
      "  Downloading grpcio-1.68.1-cp311-cp311-manylinux_2_17_x86_64.manylinux2014_x86_64.whl.metadata (3.9 kB)\n",
      "Collecting grpcio-status<2.0.dev0,>=1.33.2 (from google-api-core[grpc]!=2.0.*,!=2.1.*,!=2.10.*,!=2.2.*,!=2.3.*,!=2.4.*,!=2.5.*,!=2.6.*,!=2.7.*,!=2.8.*,!=2.9.*,<3.0.0dev,>=1.34.1->google-ai-generativelanguage==0.6.10->google-generativeai->-r requirements.txt (line 1))\n",
      "  Downloading grpcio_status-1.68.1-py3-none-any.whl.metadata (1.1 kB)\n",
      "Collecting pyparsing!=3.0.0,!=3.0.1,!=3.0.2,!=3.0.3,<4,>=2.4.2 (from httplib2<1.dev0,>=0.19.0->google-api-python-client->google-generativeai->-r requirements.txt (line 1))\n",
      "  Downloading pyparsing-3.2.0-py3-none-any.whl.metadata (5.0 kB)\n",
      "Requirement already satisfied: pyasn1<0.7.0,>=0.4.6 in /home/user/AIcamp_LLM/lab_env/lib/python3.11/site-packages (from pyasn1-modules>=0.2.1->google-auth>=2.15.0->google-generativeai->-r requirements.txt (line 1)) (0.6.1)\n",
      "Requirement already satisfied: charset-normalizer<4,>=2 in /home/user/AIcamp_LLM/lab_env/lib/python3.11/site-packages (from requests<3.0.0.dev0,>=2.18.0->google-api-core->google-generativeai->-r requirements.txt (line 1)) (3.4.1)\n",
      "Requirement already satisfied: urllib3<3,>=1.21.1 in /home/user/AIcamp_LLM/lab_env/lib/python3.11/site-packages (from requests<3.0.0.dev0,>=2.18.0->google-api-core->google-generativeai->-r requirements.txt (line 1)) (2.3.0)\n",
      "Downloading google_generativeai-0.8.3-py3-none-any.whl (160 kB)\n",
      "\u001b[2K   \u001b[90m━━━━━━━━━━━━━━━━━━━━━━━━━━━━━━━━━━━━━━━━\u001b[0m \u001b[32m160.8/160.8 kB\u001b[0m \u001b[31m12.7 MB/s\u001b[0m eta \u001b[36m0:00:00\u001b[0m\n",
      "\u001b[?25hDownloading google_ai_generativelanguage-0.6.10-py3-none-any.whl (760 kB)\n",
      "\u001b[2K   \u001b[90m━━━━━━━━━━━━━━━━━━━━━━━━━━━━━━━━━━━━━━━━\u001b[0m \u001b[32m760.0/760.0 kB\u001b[0m \u001b[31m40.4 MB/s\u001b[0m eta \u001b[36m0:00:00\u001b[0m\n",
      "\u001b[?25hDownloading google_api_core-2.24.0-py3-none-any.whl (158 kB)\n",
      "\u001b[2K   \u001b[90m━━━━━━━━━━━━━━━━━━━━━━━━━━━━━━━━━━━━━━━━\u001b[0m \u001b[32m158.6/158.6 kB\u001b[0m \u001b[31m17.1 MB/s\u001b[0m eta \u001b[36m0:00:00\u001b[0m\n",
      "\u001b[?25hDownloading protobuf-5.29.2-cp38-abi3-manylinux2014_x86_64.whl (319 kB)\n",
      "\u001b[2K   \u001b[90m━━━━━━━━━━━━━━━━━━━━━━━━━━━━━━━━━━━━━━━━\u001b[0m \u001b[32m319.7/319.7 kB\u001b[0m \u001b[31m28.3 MB/s\u001b[0m eta \u001b[36m0:00:00\u001b[0m\n",
      "\u001b[?25hDownloading google_api_python_client-2.156.0-py2.py3-none-any.whl (12.7 MB)\n",
      "\u001b[2K   \u001b[90m━━━━━━━━━━━━━━━━━━━━━━━━━━━━━━━━━━━━━━━━\u001b[0m \u001b[32m12.7/12.7 MB\u001b[0m \u001b[31m69.7 MB/s\u001b[0m eta \u001b[36m0:00:00\u001b[0m:00:01\u001b[0m00:01\u001b[0m\n",
      "\u001b[?25hDownloading tqdm-4.67.1-py3-none-any.whl (78 kB)\n",
      "\u001b[2K   \u001b[90m━━━━━━━━━━━━━━━━━━━━━━━━━━━━━━━━━━━━━━━━\u001b[0m \u001b[32m78.5/78.5 kB\u001b[0m \u001b[31m8.1 MB/s\u001b[0m eta \u001b[36m0:00:00\u001b[0m\n",
      "\u001b[?25hDownloading google_auth_httplib2-0.2.0-py2.py3-none-any.whl (9.3 kB)\n",
      "Downloading googleapis_common_protos-1.66.0-py2.py3-none-any.whl (221 kB)\n",
      "\u001b[2K   \u001b[90m━━━━━━━━━━━━━━━━━━━━━━━━━━━━━━━━━━━━━━━━\u001b[0m \u001b[32m221.7/221.7 kB\u001b[0m \u001b[31m19.6 MB/s\u001b[0m eta \u001b[36m0:00:00\u001b[0m\n",
      "\u001b[?25hDownloading httplib2-0.22.0-py3-none-any.whl (96 kB)\n",
      "\u001b[2K   \u001b[90m━━━━━━━━━━━━━━━━━━━━━━━━━━━━━━━━━━━━━━━━\u001b[0m \u001b[32m96.9/96.9 kB\u001b[0m \u001b[31m11.3 MB/s\u001b[0m eta \u001b[36m0:00:00\u001b[0m\n",
      "\u001b[?25hDownloading proto_plus-1.25.0-py3-none-any.whl (50 kB)\n",
      "\u001b[2K   \u001b[90m━━━━━━━━━━━━━━━━━━━━━━━━━━━━━━━━━━━━━━━━\u001b[0m \u001b[32m50.1/50.1 kB\u001b[0m \u001b[31m5.1 MB/s\u001b[0m eta \u001b[36m0:00:00\u001b[0m\n",
      "\u001b[?25hDownloading uritemplate-4.1.1-py2.py3-none-any.whl (10 kB)\n",
      "Downloading grpcio-1.68.1-cp311-cp311-manylinux_2_17_x86_64.manylinux2014_x86_64.whl (5.9 MB)\n",
      "\u001b[2K   \u001b[90m━━━━━━━━━━━━━━━━━━━━━━━━━━━━━━━━━━━━━━━━\u001b[0m \u001b[32m5.9/5.9 MB\u001b[0m \u001b[31m72.1 MB/s\u001b[0m eta \u001b[36m0:00:00\u001b[0m:00:01\u001b[0m00:01\u001b[0m\n",
      "\u001b[?25hDownloading grpcio_status-1.68.1-py3-none-any.whl (14 kB)\n",
      "Downloading pyparsing-3.2.0-py3-none-any.whl (106 kB)\n",
      "\u001b[2K   \u001b[90m━━━━━━━━━━━━━━━━━━━━━━━━━━━━━━━━━━━━━━━━\u001b[0m \u001b[32m106.9/106.9 kB\u001b[0m \u001b[31m12.5 MB/s\u001b[0m eta \u001b[36m0:00:00\u001b[0m\n",
      "\u001b[?25hInstalling collected packages: uritemplate, tqdm, pyparsing, protobuf, grpcio, proto-plus, httplib2, googleapis-common-protos, grpcio-status, google-auth-httplib2, google-api-core, google-api-python-client, google-ai-generativelanguage, google-generativeai\n",
      "Successfully installed google-ai-generativelanguage-0.6.10 google-api-core-2.24.0 google-api-python-client-2.156.0 google-auth-httplib2-0.2.0 google-generativeai-0.8.3 googleapis-common-protos-1.66.0 grpcio-1.68.1 grpcio-status-1.68.1 httplib2-0.22.0 proto-plus-1.25.0 protobuf-5.29.2 pyparsing-3.2.0 tqdm-4.67.1 uritemplate-4.1.1\n",
      "\n",
      "\u001b[1m[\u001b[0m\u001b[34;49mnotice\u001b[0m\u001b[1;39;49m]\u001b[0m\u001b[39;49m A new release of pip is available: \u001b[0m\u001b[31;49m24.0\u001b[0m\u001b[39;49m -> \u001b[0m\u001b[32;49m24.3.1\u001b[0m\n",
      "\u001b[1m[\u001b[0m\u001b[34;49mnotice\u001b[0m\u001b[1;39;49m]\u001b[0m\u001b[39;49m To update, run: \u001b[0m\u001b[32;49mpip install --upgrade pip\u001b[0m\n",
      "Note: you may need to restart the kernel to use updated packages.\n"
     ]
    }
   ],
   "source": [
    "%pip install -r requirements.txt"
   ]
  },
  {
   "cell_type": "code",
   "execution_count": 7,
   "metadata": {},
   "outputs": [
    {
     "name": "stderr",
     "output_type": "stream",
     "text": [
      "/home/user/AIcamp_LLM/lab_env/lib/python3.11/site-packages/tqdm/auto.py:21: TqdmWarning: IProgress not found. Please update jupyter and ipywidgets. See https://ipywidgets.readthedocs.io/en/stable/user_install.html\n",
      "  from .autonotebook import tqdm as notebook_tqdm\n"
     ]
    }
   ],
   "source": [
    "import google.generativeai as genai\n",
    "from dotenv import load_dotenv\n",
    "import os"
   ]
  },
  {
   "cell_type": "code",
   "execution_count": 8,
   "metadata": {},
   "outputs": [],
   "source": [
    "# Load environment variables from .env file\n",
    "load_dotenv()\n",
    "\n",
    "# Access the API key from the environment variable\n",
    "api_key = os.getenv(\"GOOGLE_API_KEY\")\n",
    "\n",
    "# Initialize the generativeAI client using AI Studio key\n",
    "genai.configure(api_key=api_key)"
   ]
  },
  {
   "cell_type": "code",
   "execution_count": 9,
   "metadata": {},
   "outputs": [
    {
     "name": "stdout",
     "output_type": "stream",
     "text": [
      "Your message to Gemini:\n",
      "Sending message to Gemini...\n",
      "Hi! 😊 How can I help you today?\n",
      "\n"
     ]
    }
   ],
   "source": [
    "model1=genai.GenerativeModel(\"gemini-2.0-flash-exp\")\n",
    "\n",
    "print(\"Your message to Gemini:\")\n",
    "msg = input()\n",
    "print(\"Sending message to Gemini...\")\n",
    "\n",
    "# Generate text using the Gemini model\n",
    "\n",
    "response = model1.generate_content(msg)\n",
    "\n",
    "print(response.text)\n"
   ]
  },
  {
   "cell_type": "code",
   "execution_count": 10,
   "metadata": {},
   "outputs": [
    {
     "name": "stdout",
     "output_type": "stream",
     "text": [
      "OpenAI, Gemini and Claude are in a plane.\n",
      "\n",
      "The pilot announces they are losing altitude.\n",
      "\n",
      "OpenAI says, \"We need to calculate the optimal trajectory for a controlled descent.\"\n",
      "\n",
      "Gemini suggests, \"Let's brainstorm some creative solutions to repurpose the oxygen masks.\"\n",
      "\n",
      "Claude calmly states, \"I've already drafted a detailed apology letter to the passengers' families.\"\n",
      "\n"
     ]
    }
   ],
   "source": [
    "# Gemini to tell a joke\n",
    "\n",
    "response = model1.generate_content(\n",
    "\"\"\"\n",
    "Tell me a joke, but do not explain why it is funny. \n",
    "Please place a carriage return after each sentence and ensure readibility.\n",
    "Use this as a starting point:\n",
    "OpenAI, Gemini and Claude are in a plane ...\"\"\"\n",
    ")\n",
    "\n",
    "print(response.text)"
   ]
  },
  {
   "cell_type": "markdown",
   "metadata": {},
   "source": [
    "## Exploring Multimodal Capabilities with Gemini\n",
    "Gemini is not just a text-based model; it can also process and generate images. Here's how you can explore its multimodal capabilities:\n",
    "\n",
    "**Image Classification / Captioning**\n",
    "\n",
    "You can provide an image to Gemini and ask it to generate a caption describing the image. This showcases Gemini's ability to understand visual content.\n",
    "\n",
    "**Image Generation**\n",
    "\n",
    "You can ask Gemini to generate images based on a text description. This demonstrates its ability to translate textual concepts into visual representations.  \n",
    "Please note that the Imagen3 API for image generation is still in beta and not publically available.\n",
    "\n",
    "**Code execution**\n",
    "\n",
    "You can ask Gemini to generate and execute code.\n",
    "\n",
    "there are more capabilities, including audio understanding and video understanding."
   ]
  },
  {
   "cell_type": "code",
   "execution_count": 11,
   "metadata": {},
   "outputs": [
    {
     "name": "stdout",
     "output_type": "stream",
     "text": [
      "Certainly! Here are a few caption options for the image of the cat in the snow:\n",
      "\n",
      "**Short & Sweet:**\n",
      "\n",
      "* \"Winter wanderer.\"\n",
      "* \"Snowy stroll.\"\n",
      "* \"Curious kitty in the cold.\"\n",
      "* \"Paws in the snow.\"\n",
      "\n",
      "**Descriptive:**\n",
      "\n",
      "* \"A tabby cat explores the winter landscape.\"\n",
      "* \"A young feline ventures out on a snowy day.\"\n",
      "* \"Striped beauty against a white backdrop.\"\n",
      "* \"The cat's amber eyes contrast with the frosty scene.\"\n",
      "\n",
      "**Playful:**\n",
      "\n",
      "* \"Is it playtime yet?\"\n",
      "* \"Making tracks in the snow.\"\n",
      "* \"Just a cat enjoying a winter walk.\"\n",
      "* \"Winter adventures with my feline friend.\"\n",
      "\n",
      "**More evocative:**\n",
      "\n",
      "* \"A moment of quiet in a snowy world.\"\n",
      "* \"The delicate beauty of nature and an animal.\"\n",
      "* \"This little cat is ready for winter!\"\n",
      "\n",
      "If you have any preferences or want other options, just let me know!\n"
     ]
    }
   ],
   "source": [
    "import httpx\n",
    "import os\n",
    "import base64\n",
    "\n",
    "# image captioning\n",
    "model = genai.GenerativeModel(model_name = \"gemini-2.0-flash-exp\")\n",
    "image_path = \"https://upload.wikimedia.org/wikipedia/commons/thumb/b/b6/Felis_catus-cat_on_snow.jpg/1024px-Felis_catus-cat_on_snow.jpg\"\n",
    "\n",
    "image = httpx.get(image_path)\n",
    "\n",
    "prompt = \"Caption this image.\"\n",
    "response = model.generate_content([{'mime_type':'image/jpeg', 'data': base64.b64encode(image.content).decode('utf-8')}, prompt])\n",
    "\n",
    "print(response.text)"
   ]
  },
  {
   "cell_type": "code",
   "execution_count": 12,
   "metadata": {},
   "outputs": [
    {
     "name": "stdout",
     "output_type": "stream",
     "text": [
      "Okay, I understand. You want me to calculate the sum of the first 50 prime numbers. I'll generate Python code to identify the first 50 primes and then sum them. Here's my plan:\n",
      "\n",
      "1.  **Prime Number Identification:** I'll use a function to check if a number is prime. A prime number is a natural number greater than 1 that has no positive divisors other than 1 and itself.\n",
      "2.  **Generating the First 50 Primes:** I will loop through numbers, starting with 2, and check if they are prime. If they are, I will add them to a list. I'll stop when the list contains 50 prime numbers.\n",
      "3.  **Summation:** Finally, I'll sum the list of prime numbers and report the result.\n",
      "\n",
      "Here is the code:\n",
      "\n",
      "\n",
      "``` python\n",
      "def is_prime(n):\n",
      "    if n <= 1:\n",
      "        return False\n",
      "    if n <= 3:\n",
      "        return True\n",
      "    if n % 2 == 0 or n % 3 == 0:\n",
      "        return False\n",
      "    i = 5\n",
      "    while i * i <= n:\n",
      "        if n % i == 0 or n % (i + 2) == 0:\n",
      "            return False\n",
      "        i += 6\n",
      "    return True\n",
      "\n",
      "primes = []\n",
      "num = 2\n",
      "while len(primes) < 50:\n",
      "    if is_prime(num):\n",
      "        primes.append(num)\n",
      "    num += 1\n",
      "\n",
      "sum_of_primes = sum(primes)\n",
      "print(f'{sum_of_primes=}')\n",
      "\n",
      "```\n",
      "```\n",
      "sum_of_primes=5117\n",
      "\n",
      "```\n",
      "The sum of the first 50 prime numbers is 5117.\n",
      "\n"
     ]
    }
   ],
   "source": [
    "# code generation and execution\n",
    "\n",
    "response = model.generate_content(\n",
    "    ('What is the sum of the first 50 prime numbers? '\n",
    "    'Generate and run code for the calculation, and make sure you get all 50.'),\n",
    "    tools='code_execution')\n",
    "\n",
    "print(response.text)"
   ]
  },
  {
   "cell_type": "markdown",
   "metadata": {},
   "source": [
    "## And thats it folks 👏\n",
    "\n",
    "You have successfully :\n",
    "- used an API key from AI Studio and sent Gemini a handful of prompts\n",
    "- utilised multimodal capabilities of Gemini 2.0\n",
    "\n",
    "To find out more go to the docs for Gemini Python SDK\n",
    "[https://ai.google.dev/]\n",
    "\n",
    "Now the world is your oyster - get building and show us what you come up with!!!"
   ]
  }
 ],
 "metadata": {
  "kernelspec": {
   "display_name": "lab_env",
   "language": "python",
   "name": "python3"
  },
  "language_info": {
   "codemirror_mode": {
    "name": "ipython",
    "version": 3
   },
   "file_extension": ".py",
   "mimetype": "text/x-python",
   "name": "python",
   "nbconvert_exporter": "python",
   "pygments_lexer": "ipython3",
   "version": "3.11.10"
  }
 },
 "nbformat": 4,
 "nbformat_minor": 4
}
