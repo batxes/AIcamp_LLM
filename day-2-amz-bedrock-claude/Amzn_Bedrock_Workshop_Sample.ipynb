{
  "cells": [
    {
      "cell_type": "code",
      "execution_count": 2,
      "metadata": {
        "colab": {
          "base_uri": "https://localhost:8080/"
        },
        "id": "blhr48tsp0Kt",
        "outputId": "32d87ddc-722f-4d17-cccc-6a3c4aa209ac"
      },
      "outputs": [
        {
          "name": "stdout",
          "output_type": "stream",
          "text": [
            "Requirement already satisfied: anthropic[bedrock] in /home/user/aisg-5-day-aiimmersion/lab_env/lib/python3.11/site-packages (0.42.0)\n",
            "Requirement already satisfied: anyio<5,>=3.5.0 in /home/user/aisg-5-day-aiimmersion/lab_env/lib/python3.11/site-packages (from anthropic[bedrock]) (4.7.0)\n",
            "Requirement already satisfied: distro<2,>=1.7.0 in /home/user/aisg-5-day-aiimmersion/lab_env/lib/python3.11/site-packages (from anthropic[bedrock]) (1.9.0)\n",
            "Requirement already satisfied: httpx<1,>=0.23.0 in /home/user/aisg-5-day-aiimmersion/lab_env/lib/python3.11/site-packages (from anthropic[bedrock]) (0.28.1)\n",
            "Requirement already satisfied: jiter<1,>=0.4.0 in /home/user/aisg-5-day-aiimmersion/lab_env/lib/python3.11/site-packages (from anthropic[bedrock]) (0.8.2)\n",
            "Requirement already satisfied: pydantic<3,>=1.9.0 in /home/user/aisg-5-day-aiimmersion/lab_env/lib/python3.11/site-packages (from anthropic[bedrock]) (2.10.4)\n",
            "Requirement already satisfied: sniffio in /home/user/aisg-5-day-aiimmersion/lab_env/lib/python3.11/site-packages (from anthropic[bedrock]) (1.3.1)\n",
            "Requirement already satisfied: typing-extensions<5,>=4.10 in /home/user/aisg-5-day-aiimmersion/lab_env/lib/python3.11/site-packages (from anthropic[bedrock]) (4.12.2)\n",
            "Requirement already satisfied: boto3>=1.28.57 in /home/user/aisg-5-day-aiimmersion/lab_env/lib/python3.11/site-packages (from anthropic[bedrock]) (1.35.90)\n",
            "Requirement already satisfied: botocore>=1.31.57 in /home/user/aisg-5-day-aiimmersion/lab_env/lib/python3.11/site-packages (from anthropic[bedrock]) (1.35.90)\n",
            "Requirement already satisfied: idna>=2.8 in /home/user/aisg-5-day-aiimmersion/lab_env/lib/python3.11/site-packages (from anyio<5,>=3.5.0->anthropic[bedrock]) (3.10)\n",
            "Requirement already satisfied: jmespath<2.0.0,>=0.7.1 in /home/user/aisg-5-day-aiimmersion/lab_env/lib/python3.11/site-packages (from boto3>=1.28.57->anthropic[bedrock]) (1.0.1)\n",
            "Requirement already satisfied: s3transfer<0.11.0,>=0.10.0 in /home/user/aisg-5-day-aiimmersion/lab_env/lib/python3.11/site-packages (from boto3>=1.28.57->anthropic[bedrock]) (0.10.4)\n",
            "Requirement already satisfied: python-dateutil<3.0.0,>=2.1 in /home/user/aisg-5-day-aiimmersion/lab_env/lib/python3.11/site-packages (from botocore>=1.31.57->anthropic[bedrock]) (2.9.0.post0)\n",
            "Requirement already satisfied: urllib3!=2.2.0,<3,>=1.25.4 in /home/user/aisg-5-day-aiimmersion/lab_env/lib/python3.11/site-packages (from botocore>=1.31.57->anthropic[bedrock]) (2.3.0)\n",
            "Requirement already satisfied: certifi in /home/user/aisg-5-day-aiimmersion/lab_env/lib/python3.11/site-packages (from httpx<1,>=0.23.0->anthropic[bedrock]) (2024.12.14)\n",
            "Requirement already satisfied: httpcore==1.* in /home/user/aisg-5-day-aiimmersion/lab_env/lib/python3.11/site-packages (from httpx<1,>=0.23.0->anthropic[bedrock]) (1.0.7)\n",
            "Requirement already satisfied: h11<0.15,>=0.13 in /home/user/aisg-5-day-aiimmersion/lab_env/lib/python3.11/site-packages (from httpcore==1.*->httpx<1,>=0.23.0->anthropic[bedrock]) (0.14.0)\n",
            "Requirement already satisfied: annotated-types>=0.6.0 in /home/user/aisg-5-day-aiimmersion/lab_env/lib/python3.11/site-packages (from pydantic<3,>=1.9.0->anthropic[bedrock]) (0.7.0)\n",
            "Requirement already satisfied: pydantic-core==2.27.2 in /home/user/aisg-5-day-aiimmersion/lab_env/lib/python3.11/site-packages (from pydantic<3,>=1.9.0->anthropic[bedrock]) (2.27.2)\n",
            "Requirement already satisfied: six>=1.5 in /home/user/aisg-5-day-aiimmersion/lab_env/lib/python3.11/site-packages (from python-dateutil<3.0.0,>=2.1->botocore>=1.31.57->anthropic[bedrock]) (1.17.0)\n",
            "\n",
            "\u001b[1m[\u001b[0m\u001b[34;49mnotice\u001b[0m\u001b[1;39;49m]\u001b[0m\u001b[39;49m A new release of pip is available: \u001b[0m\u001b[31;49m24.0\u001b[0m\u001b[39;49m -> \u001b[0m\u001b[32;49m24.3.1\u001b[0m\n",
            "\u001b[1m[\u001b[0m\u001b[34;49mnotice\u001b[0m\u001b[1;39;49m]\u001b[0m\u001b[39;49m To update, run: \u001b[0m\u001b[32;49mpip install --upgrade pip\u001b[0m\n",
            "Requirement already satisfied: pyyaml in /home/user/aisg-5-day-aiimmersion/lab_env/lib/python3.11/site-packages (6.0.2)\n",
            "\n",
            "\u001b[1m[\u001b[0m\u001b[34;49mnotice\u001b[0m\u001b[1;39;49m]\u001b[0m\u001b[39;49m A new release of pip is available: \u001b[0m\u001b[31;49m24.0\u001b[0m\u001b[39;49m -> \u001b[0m\u001b[32;49m24.3.1\u001b[0m\n",
            "\u001b[1m[\u001b[0m\u001b[34;49mnotice\u001b[0m\u001b[1;39;49m]\u001b[0m\u001b[39;49m To update, run: \u001b[0m\u001b[32;49mpip install --upgrade pip\u001b[0m\n"
          ]
        }
      ],
      "source": [
        "#Install anthropic library for bedrock\n",
        "#Install pyyaml to read secrets\n",
        "!pip install -U \"anthropic[bedrock]\"\n",
        "!pip install pyyaml\n",
        "\n",
        "\n",
        "\n",
        "\n",
        "\n"
      ]
    },
    {
      "cell_type": "code",
      "execution_count": 4,
      "metadata": {
        "id": "AFl9Uw0M7RiQ"
      },
      "outputs": [
        {
          "name": "stdout",
          "output_type": "stream",
          "text": [
            "Requesting your Amazon Credentials\n",
            "Please input your Access key\n",
            "Please input your Secret key\n"
          ]
        }
      ],
      "source": [
        "#Create a custom secrets.yaml file, git ignores this file\n",
        "from pathlib import Path\n",
        "file_path = Path(\"secrets.yaml\")\n",
        "if not file_path.exists():\n",
        "\n",
        "  print(\"Requesting your Amazon Credentials\")\n",
        "  print(\"Please input your Access key\")\n",
        "  access_key=input()\n",
        "  print(\"Please input your Secret key\")\n",
        "  secret_key=input()\n",
        "  with open('secrets.yaml', 'w') as f:\n",
        "    f.write(f'''\n",
        "  AMZ_SECRET_KEY: {secret_key}\n",
        "  AMZ_SECRET_ACCESS_KEY: {access_key}\n",
        "  ''')"
      ]
    },
    {
      "cell_type": "code",
      "execution_count": 5,
      "metadata": {
        "id": "YvdwQJ2IyjhU"
      },
      "outputs": [],
      "source": [
        "#Read your API secrets\n",
        "\n",
        "import yaml\n",
        "if file_path.exists():\n",
        "  with open('secrets.yaml', 'r') as f:\n",
        "    secrets = (yaml.safe_load(f))\n"
      ]
    },
    {
      "cell_type": "code",
      "execution_count": 12,
      "metadata": {
        "colab": {
          "base_uri": "https://localhost:8080/"
        },
        "id": "gyVuOyMIvpVD",
        "outputId": "dad47fe4-d18f-4d05-8531-7853c9ab733e"
      },
      "outputs": [
        {
          "name": "stdout",
          "output_type": "stream",
          "text": [
            "Your message to Claude Sonnet:\n",
            "Sending message to Anthropic...\n",
            "Unfortunately, I don't have any specific weather data for Berlin. As an AI assistant without direct access to live weather feeds, I don't have up-to-the-minute weather information for particular cities. However, here are some general points about the typical weather in Berlin:\n",
            "\n",
            "- Berlin has a continental/maritime temperate climate with four distinct seasons.\n",
            "\n",
            "- Summers are mild to warm, with average highs around 23-25°C (73-77°F) in June-August.\n",
            "\n",
            "- Winters are quite cold, with average highs around 3-5°C (37-41°F) in December-February and lows often below freezing.\n",
            "\n",
            "- Spring and fall tend to be cool to mild transition periods.\n",
            "\n",
            "- Rainfall is moderate and spread throughout the year, with spring being one of the wetter periods.\n",
            "\n",
            "- Snow falls each winter, with a few significant snowstorms possible.\n",
            "\n",
            "- Wind, clouds and quick weather changes are common given Berlin's inland location.\n",
            "\n",
            "So in summary, Berlin experiences a typical Northern European climate with relatively warm summers, cold winters with snow, and changeable conditions year-round. But for a precise Berlin weather forecast, it's best to check an updated weather report or meteorological service.\n"
          ]
        }
      ],
      "source": [
        "from anthropic import AnthropicBedrock\n",
        "\n",
        "client = AnthropicBedrock(\n",
        "    # Authenticate by either providing the keys below or use the default AWS credential providers, such as\n",
        "    # using ~/.aws/credentials or the \"AWS_SECRET_ACCESS_KEY\" and \"AWS_ACCESS_KEY_ID\" environment variables.\n",
        "    aws_access_key=secrets[\"AMZ_SECRET_ACCESS_KEY\"],\n",
        "    aws_secret_key=secrets[\"AMZ_SECRET_KEY\"],\n",
        "    # Temporary credentials can be used with aws_session_token.\n",
        "    # Read more at https://docs.aws.amazon.com/IAM/latest/UserGuide/id_credentials_temp.html.\n",
        "    # aws_region changes the aws region to which the request is made. By default, we read AWS_REGION,\n",
        "    # and if that's not present, we default to us-east-1. Note that we do not read ~/.aws/config for the region.\n",
        "    aws_region=\"eu-central-1\",\n",
        ")\n",
        "\n",
        "print(\"Your message to Claude Sonnet:\")\n",
        "msg = input()\n",
        "print(\"Sending message to Anthropic...\")\n",
        "\n",
        "message = client.messages.create(\n",
        "    #Anthropic model to use\n",
        "    model=\"anthropic.claude-3-sonnet-20240229-v1:0\",\n",
        "    #Number of maximum tokens\n",
        "    max_tokens=1024,\n",
        "    #List of messages, if\n",
        "    messages=[{\"role\": \"user\", \"content\": msg}]\n",
        ")\n",
        "\n",
        "print(message.content[0].text)"
      ]
    }
  ],
  "metadata": {
    "colab": {
      "provenance": []
    },
    "kernelspec": {
      "display_name": "Python 3",
      "name": "python3"
    },
    "language_info": {
      "codemirror_mode": {
        "name": "ipython",
        "version": 3
      },
      "file_extension": ".py",
      "mimetype": "text/x-python",
      "name": "python",
      "nbconvert_exporter": "python",
      "pygments_lexer": "ipython3",
      "version": "3.11.10"
    }
  },
  "nbformat": 4,
  "nbformat_minor": 0
}
